{
 "cells": [
  {
   "cell_type": "code",
   "execution_count": 1,
   "metadata": {},
   "outputs": [
    {
     "name": "stdout",
     "output_type": "stream",
     "text": [
      "Jupyter environment detected. Enabling Open3D WebVisualizer.\n",
      "[Open3D INFO] WebRTC GUI backend enabled.\n",
      "[Open3D INFO] WebRTCWindowSystem: HTTP handshake server disabled.\n"
     ]
    }
   ],
   "source": [
    "import open3d as o3d\n",
    "import numpy as np"
   ]
  },
  {
   "cell_type": "code",
   "execution_count": 2,
   "metadata": {},
   "outputs": [
    {
     "data": {
      "text/plain": [
       "True"
      ]
     },
     "execution_count": 2,
     "metadata": {},
     "output_type": "execute_result"
    }
   ],
   "source": [
    "pcd_knee = o3d.io.read_point_cloud(\"sicp_trials/CT_knee_400.xyz\", format=\"xyz\")\n",
    "pcd_CTknee = o3d.io.read_point_cloud(\"sicp_trials/diffformatknee_aligned.xyz\", format=\"xyz\")\n",
    "\n",
    "pcd_knee.paint_uniform_color([1, 0.706, 0])\n",
    "pcd_CTknee.paint_uniform_color([0, 0.651, 0.929])\n",
    "\n",
    "pcd_combined = pcd_CTknee + pcd_knee\n",
    "# Visualize the point cloud\n",
    "#o3d.visualization.draw_geometries([pcd_CTknee, pcd_knee])\n",
    "o3d.visualization.draw_geometries([pcd_combined])\n",
    "\n",
    "o3d.io.write_point_cloud(\"sicp_trials/sicp Registration.ply\", pcd_combined)"
   ]
  }
 ],
 "metadata": {
  "kernelspec": {
   "display_name": "Python 3",
   "language": "python",
   "name": "python3"
  },
  "language_info": {
   "codemirror_mode": {
    "name": "ipython",
    "version": 3
   },
   "file_extension": ".py",
   "mimetype": "text/x-python",
   "name": "python",
   "nbconvert_exporter": "python",
   "pygments_lexer": "ipython3",
   "version": "3.11.11"
  }
 },
 "nbformat": 4,
 "nbformat_minor": 2
}
