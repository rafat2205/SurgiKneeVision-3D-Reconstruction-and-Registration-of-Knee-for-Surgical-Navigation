{
 "cells": [
  {
   "cell_type": "code",
   "execution_count": 1,
   "metadata": {},
   "outputs": [
    {
     "name": "stdout",
     "output_type": "stream",
     "text": [
      "Jupyter environment detected. Enabling Open3D WebVisualizer.\n",
      "[Open3D INFO] WebRTC GUI backend enabled.\n",
      "[Open3D INFO] WebRTCWindowSystem: HTTP handshake server disabled.\n"
     ]
    }
   ],
   "source": [
    "import open3d as o3d\n",
    "import numpy as np"
   ]
  },
  {
   "cell_type": "code",
   "execution_count": 2,
   "metadata": {},
   "outputs": [],
   "source": [
    "CT_knee = o3d.io.read_point_cloud(\"pc_volumes/CT_knee_600.ply\")\n",
    "scan_knee = o3d.io.read_point_cloud(\"pc_volumes/scan_knee_edited1.ply\")\n",
    "\n",
    "# Convert to NumPy array\n",
    "points_CT_knee = np.asarray(CT_knee.points)\n",
    "points_scan_knee = np.asarray(scan_knee.points)\n",
    "\n",
    "# Save as XYZ file\n",
    "np.savetxt(\"CT_knee_600.xyz\", points_CT_knee, fmt=\"%.6f\")\n",
    "np.savetxt(\"scan_knee_600.xyz\", points_scan_knee, fmt=\"%.6f\")\n",
    "\n"
   ]
  },
  {
   "cell_type": "code",
   "execution_count": 3,
   "metadata": {},
   "outputs": [
    {
     "data": {
      "text/plain": [
       "True"
      ]
     },
     "execution_count": 3,
     "metadata": {},
     "output_type": "execute_result"
    }
   ],
   "source": [
    "o3d.io.write_point_cloud(\"CT_knee_600.ply\", CT_knee)\n",
    "o3d.io.write_point_cloud(\"scan_knee_edited1.ply\", scan_knee)"
   ]
  },
  {
   "cell_type": "code",
   "execution_count": 3,
   "metadata": {},
   "outputs": [
    {
     "data": {
      "text/plain": [
       "True"
      ]
     },
     "execution_count": 3,
     "metadata": {},
     "output_type": "execute_result"
    }
   ],
   "source": [
    "pcd_knee = o3d.io.read_point_cloud(\"E:/RHS/ScaleAdaptiveICP/input/CT_knee_500.xyz\", format=\"xyz\")\n",
    "pcd_CTknee = o3d.io.read_point_cloud(\"E:/RHS/ScaleAdaptiveICP/output/diffformatknee_aligned2.xyz\", format=\"xyz\")\n",
    "\n",
    "pcd_knee.paint_uniform_color([1, 0.706, 0])\n",
    "pcd_CTknee.paint_uniform_color([0, 0.651, 0.929])\n",
    "\n",
    "pcd_combined = pcd_CTknee + pcd_knee\n",
    "# Visualize the point cloud\n",
    "#o3d.visualization.draw_geometries([pcd_CTknee, pcd_knee])\n",
    "o3d.visualization.draw_geometries([pcd_combined])\n",
    "\n",
    "o3d.io.write_point_cloud(\"SICP results/DCP Registration_500.ply\", pcd_combined)"
   ]
  }
 ],
 "metadata": {
  "kernelspec": {
   "display_name": "Python 3",
   "language": "python",
   "name": "python3"
  },
  "language_info": {
   "codemirror_mode": {
    "name": "ipython",
    "version": 3
   },
   "file_extension": ".py",
   "mimetype": "text/x-python",
   "name": "python",
   "nbconvert_exporter": "python",
   "pygments_lexer": "ipython3",
   "version": "3.11.11"
  }
 },
 "nbformat": 4,
 "nbformat_minor": 2
}
