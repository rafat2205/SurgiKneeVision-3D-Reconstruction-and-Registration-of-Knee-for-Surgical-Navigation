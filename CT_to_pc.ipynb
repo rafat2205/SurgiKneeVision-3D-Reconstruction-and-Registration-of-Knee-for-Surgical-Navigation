{
 "cells": [
  {
   "cell_type": "code",
   "execution_count": 1,
   "metadata": {},
   "outputs": [
    {
     "name": "stdout",
     "output_type": "stream",
     "text": [
      "Jupyter environment detected. Enabling Open3D WebVisualizer.\n",
      "[Open3D INFO] WebRTC GUI backend enabled.\n",
      "[Open3D INFO] WebRTCWindowSystem: HTTP handshake server disabled.\n"
     ]
    }
   ],
   "source": [
    "import pydicom\n",
    "import numpy as np\n",
    "import open3d as o3d\n",
    "import SimpleITK as sitk\n",
    "from skimage import measure"
   ]
  },
  {
   "cell_type": "code",
   "execution_count": null,
   "metadata": {},
   "outputs": [
    {
     "name": "stdout",
     "output_type": "stream",
     "text": [
      "Number of points: 312434\n"
     ]
    },
    {
     "data": {
      "text/plain": [
       "True"
      ]
     },
     "execution_count": 2,
     "metadata": {},
     "output_type": "execute_result"
    }
   ],
   "source": [
    "# Step 1: Load DICOM images\n",
    "dicom_path = \"E:/RHS/Kniephantom ALT/DICOM/0000F94D/AAB1C77A/AA775B6F/00003C2A\"\n",
    "reader = sitk.ImageSeriesReader()\n",
    "dicom_files = reader.GetGDCMSeriesFileNames(dicom_path)\n",
    "reader.SetFileNames(dicom_files)\n",
    "image = reader.Execute()\n",
    "\n",
    "# Step 2: Convert to NumPy array\n",
    "array = sitk.GetArrayFromImage(image)\n",
    "spacing = np.array(image.GetSpacing())[::-1]  # Get spacing in (z, y, x)\n",
    "\n",
    "# Step 3: Apply thresholding (e.g., extract bone)\n",
    "threshold = 800  # Hounsfield Unit threshold for bone\n",
    "binary_image = array > threshold\n",
    "\n",
    "# Step 4: Generate mesh using Marching Cubes\n",
    "verts, faces, _, _ = measure.marching_cubes(binary_image, level=0)\n",
    "\n",
    "# Step 5: Convert mesh vertices to point cloud\n",
    "point_cloud = verts * spacing  # Adjust for spacing\n",
    "\n",
    "# Step 6: Save as a PLY file\n",
    "pcd = o3d.geometry.PointCloud()\n",
    "pcd.points = o3d.utility.Vector3dVector(point_cloud)\n",
    "print(f\"Number of points: {len(pcd.points)}\")\n",
    "o3d.io.write_point_cloud(\"CT_data.ply\", pcd)"
   ]
  },
  {
   "cell_type": "code",
   "execution_count": null,
   "metadata": {},
   "outputs": [
    {
     "name": "stdout",
     "output_type": "stream",
     "text": [
      "Load a ply point cloud, print it, and render it\n"
     ]
    }
   ],
   "source": [
    "import open3d as o3d\n",
    "\n",
    "print(\"Load a ply point cloud, print it, and render it\")\n",
    "pcd = o3d.io.read_point_cloud(\"CT_data.ply\")\n",
    "o3d.visualization.draw_geometries([pcd],\n",
    "                                  zoom=0.3412,\n",
    "                                  front=[0.4257, -0.2125, -0.8795],\n",
    "                                  lookat=[2.6172, 2.0475, 1.532],\n",
    "                                  up=[-0.0694, -0.9768, 0.2024])"
   ]
  }
 ],
 "metadata": {
  "kernelspec": {
   "display_name": "Python 3",
   "language": "python",
   "name": "python3"
  },
  "language_info": {
   "codemirror_mode": {
    "name": "ipython",
    "version": 3
   },
   "file_extension": ".py",
   "mimetype": "text/x-python",
   "name": "python",
   "nbconvert_exporter": "python",
   "pygments_lexer": "ipython3",
   "version": "3.11.11"
  }
 },
 "nbformat": 4,
 "nbformat_minor": 2
}
